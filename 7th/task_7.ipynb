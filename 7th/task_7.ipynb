{
 "cells": [
  {
   "cell_type": "markdown",
   "metadata": {},
   "source": [
    "함수 실행 시간을 측정하는 데코레이터 timer_decorator를 작성하세요. \n",
    "\n",
    "임의의 함수가 실행되는 시간을 측정하여 \"함수 실행 시간: x.xx초\" 형태로 출력하세요."
   ]
  },
  {
   "cell_type": "code",
   "execution_count": 3,
   "metadata": {},
   "outputs": [
    {
     "name": "stdout",
     "output_type": "stream",
     "text": [
      "세균성 장염 걸려서 병원비 백만원썼어요. 실비 보험 아니었으면 백만원 그대로 나갈뻔\n",
      "함수 실행 시간 : 0.0002288818359375초\n"
     ]
    }
   ],
   "source": [
    "from time import time\n",
    "\n",
    "def deco(function):\n",
    "    def wrapper():\n",
    "        start = time()\n",
    "        function()\n",
    "        end = time()\n",
    "        print(f'함수 실행 시간 : {end-start}초')\n",
    "    return wrapper\n",
    "\n",
    "@deco\n",
    "\n",
    "def oz():\n",
    "    print(\"세균성 장염 걸려서 병원비 백만원썼어요. 실비 보험 아니었으면 백만원 그대로 나갈뻔\")\n",
    "\n",
    "oz()"
   ]
  }
 ],
 "metadata": {
  "kernelspec": {
   "display_name": "Python 3",
   "language": "python",
   "name": "python3"
  },
  "language_info": {
   "codemirror_mode": {
    "name": "ipython",
    "version": 3
   },
   "file_extension": ".py",
   "mimetype": "text/x-python",
   "name": "python",
   "nbconvert_exporter": "python",
   "pygments_lexer": "ipython3",
   "version": "3.9.6"
  }
 },
 "nbformat": 4,
 "nbformat_minor": 2
}
