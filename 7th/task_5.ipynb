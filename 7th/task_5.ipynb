{
 "cells": [
  {
   "cell_type": "markdown",
   "metadata": {},
   "source": [
    "datetime 모듈을 사용하여 현재 날짜와 시간을 출력하는 프로그램을 작성하세요. \n",
    "\n",
    "또한, 사용자로부터 태어난 년도를 입력받아 현재 나이를 계산하여 출력하세요."
   ]
  },
  {
   "cell_type": "code",
   "execution_count": 3,
   "metadata": {},
   "outputs": [
    {
     "name": "stdout",
     "output_type": "stream",
     "text": [
      "2024년 10월 02일 16시 21분 53초\n",
      "당신의 나이는 한국식으로 29살 입니다.\n"
     ]
    }
   ],
   "source": [
    "import datetime\n",
    "\n",
    "now = datetime.datetime.now()\n",
    "time = now.strftime(\"%Y{} %m{} %d{} %H{} %M{} %S{}\").format(*\"년월일시분초\")\n",
    "\n",
    "print(time)\n",
    "\n",
    "age = int(input(\"생년을 숫자로 입력해주세요.\"))\n",
    "years = now.year\n",
    "years = int(years)\n",
    "\n",
    "print(f'당신의 나이는 한국식으로 {years-age+1}살 입니다.')"
   ]
  }
 ],
 "metadata": {
  "kernelspec": {
   "display_name": "Python 3",
   "language": "python",
   "name": "python3"
  },
  "language_info": {
   "codemirror_mode": {
    "name": "ipython",
    "version": 3
   },
   "file_extension": ".py",
   "mimetype": "text/x-python",
   "name": "python",
   "nbconvert_exporter": "python",
   "pygments_lexer": "ipython3",
   "version": "3.9.6"
  }
 },
 "nbformat": 4,
 "nbformat_minor": 2
}
