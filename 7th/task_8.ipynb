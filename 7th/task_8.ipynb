{
 "cells": [
  {
   "cell_type": "markdown",
   "metadata": {},
   "source": [
    "여러분이 자주 사용하는 수학적 연산<br>\n",
    "(예: 삼각형 넓이, 원의 넓이, 직육면체의 넓이)을 수행하는 함수들을 포함하는 mymath.py라는 이름의 모듈을 만드세요. \n",
    "\n",
    "이 모듈을 사용하여 작성된 함수들을 실제로 임포트하고 사용하는 간단한 프로그램을 작성하세요."
   ]
  },
  {
   "cell_type": "code",
   "execution_count": 9,
   "metadata": {},
   "outputs": [
    {
     "name": "stdout",
     "output_type": "stream",
     "text": [
      "급여 공제: 10000\n",
      "비급여 공제: 20000.0\n",
      "총 공제: 30000.0\n"
     ]
    }
   ],
   "source": [
    "import mymath as m\n",
    "\n",
    "reimbursable_money = m.reimbursable_input()\n",
    "non_reimbursable_money = m.non_reimbursable_input()\n",
    "\n",
    "print(f\"급여 공제: {m.reimbursable(reimbursable_money)}\")\n",
    "print(f\"비급여 공제: {m.non_reimbursable(non_reimbursable_money)}\")\n",
    "print(f\"총 공제: {m.total_deduction(reimbursable_money, non_reimbursable_money)}\")"
   ]
  }
 ],
 "metadata": {
  "kernelspec": {
   "display_name": "Python 3",
   "language": "python",
   "name": "python3"
  },
  "language_info": {
   "codemirror_mode": {
    "name": "ipython",
    "version": 3
   },
   "file_extension": ".py",
   "mimetype": "text/x-python",
   "name": "python",
   "nbconvert_exporter": "python",
   "pygments_lexer": "ipython3",
   "version": "3.9.6"
  }
 },
 "nbformat": 4,
 "nbformat_minor": 2
}
