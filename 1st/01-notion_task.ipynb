{
 "cells": [
  {
   "cell_type": "markdown",
   "metadata": {},
   "source": [
    "<span style=\"font-size:100%\">\n",
    "\n",
    "수업은 모두 열심히 들으셨나요?\n",
    "\n",
    "간혹 강의에서 언급되지 않은 내용이 문제로 나올 수 있습니다.<br>\n",
    "그럴땐 강의 내용 외 문제는 구글링을 통해 해결해주세요<br></span>\n",
    "<span style=\"font-size:80%\">\n",
    "(구글링 또한 개발자가 갖쳐야할 역량 중에 하나랍니다 😊)\n",
    "</span>\n",
    "\n",
    "---"
   ]
  },
  {
   "cell_type": "markdown",
   "metadata": {},
   "source": [
    "<span style=\"font-size:80%\">[문제1]<br><br></span>\n",
    "```인터프리트 방식에 대해 설명하고 2개 이상의 장점을 설명해주세요```"
   ]
  },
  {
   "cell_type": "markdown",
   "metadata": {},
   "source": [
    "<span style=\"color:red\">답변</span>"
   ]
  },
  {
   "cell_type": "markdown",
   "metadata": {},
   "source": [
    "인터프리터 방식은 작성된 코드를 인터프리터로 한 문장 씩 기계어로 번역하여 실행한다. 따라서 코드가 길어지면 실행이 느려질 수 있다. 대표적인 언어로 파이썬과 자바스크립트 등이 있다.\n",
    "인터프리터가 설치된 곳이라면 어느 곳에서든 실행이 가능하므로 프로그램의 이식성이 높다는 장점이 있지만, 역으로 이야기하면 반드시 인터프리터가 있어야한다는 단점이 된다.\n",
    "또한, 번역 후 실행하는 방식으로 오류가 발생시 즉시 읽던 부분에서 중단되므로 오류 발견이 빠르고 쉽다.\n",
    "컴파일러의 경우 원시코드를 기계어로 번역한 별도의 파일이 생성되지만, 인터프리터의 경우 한 문장씩 번역하여 실행하기 때문에 메모리 효율이 좋다."
   ]
  },
  {
   "cell_type": "markdown",
   "metadata": {},
   "source": [
    "---"
   ]
  },
  {
   "cell_type": "markdown",
   "metadata": {},
   "source": [
    "<span style=\"font-size:80%\">[문제2]<br><br></span>\n",
    "```동적 타입 방식의 장점과 단점을 간략히 설명해주세요```"
   ]
  },
  {
   "cell_type": "markdown",
   "metadata": {},
   "source": [
    "<span style=\"color:red\">답변</span>"
   ]
  },
  {
   "cell_type": "markdown",
   "metadata": {},
   "source": [
    "동적 타입의 장점으로는 코드 작성 시 용도에 제한이 없기 때문에 유연성이 높고 효율적이다.\n",
    "단점으로는 프로그램 실행 때 용도에 문제를 확인할 수 있기 때문에 코드가 길고 복잡할 경우 문제 해결이 쉽지 않다. 또한, 실행 중에 데이터 타입을 추적 및 처리하므로, 정적 타입보다 성능이 느릴 수 있다."
   ]
  },
  {
   "cell_type": "markdown",
   "metadata": {},
   "source": [
    "---"
   ]
  },
  {
   "cell_type": "markdown",
   "metadata": {},
   "source": [
    "<span style=\"font-size:80%\">[문제3]<br><br></span>\n",
    "```Python으로 정적타입 방식의 코드를 작성할 수 있는 방법을 구글링을 통해 검색 후 설명해주세요```"
   ]
  },
  {
   "cell_type": "markdown",
   "metadata": {},
   "source": [
    "<span style=\"color:red\">답변</span>"
   ]
  },
  {
   "cell_type": "markdown",
   "metadata": {},
   "source": [
    "타입 시스템이란?\n",
    "\n",
    "타입 시스템을 이용하면 파이썬이나 자바스크립트 같은 동적 타입 언어도 정적 타입 언어의 특성을 활용해 코드를 작성할 수 있다.\n",
    "타입 시스템이란, 언어의 기본 타입 또는 개발자가 정의한 타입을 기반으로 언어와 연관시키는 메커니즘을 뜻한다.\n",
    "타입 동등, 타입 호환, 타입 추론에 대한 규칙을 지킨다면 타입 시스템이라고 볼 수 있다.\n",
    "동등 : 두 타입이 동일할 때 적용되는 규칙\n",
    "호환 : 두 타입이 정확히 일지하지 않더라도 어느 정도 호환이 되는지 나타내는 규칙\n",
    "추론 : 타입이 정의되어 있지 않지만 주변 문맥에 따라 타입이 결정되는 규칙\n",
    "\n",
    "정적 타입 시스틈의 필요성\n",
    "\n",
    "-코드 가독성 개선\n",
    "-잘못된 타입으로 인한 버그 예방\n",
    "-코드와 서비스 안정성 확보\n",
    "\n",
    "파이썬의 타입 힌트\n",
    "\n",
    "-파이썬의 타입 힌트는 파이썬 코드에 정적 타입을 선택적으로 제공하는 기능\n",
    "-타입 힌트를 추가하면 IDE(예: vscode)에서 잘못된 타입을 사용할 경우에 경고 표시가 뜨는 기능을 활용할 수 있다. \n",
    "대부분의 개발환경에서 타입힌트를 지원하고 있다.\n",
    "-타입 힌트가 실제로 변수의 타입을 강제하지 않고, 파이썬은 여전히 동적 타입 방식으로 동작.\n",
    "그러나 정적 타입의 장점을 어느 정도 누릴 수 있다.\n",
    "-타입 검사 도구 툴을 사용하면 타입 오류 검출 가능.\n",
    "\n",
    "타입 힌트 사용 방법\n",
    "\n",
    "1. 변수에 타입 힌트 추가\n",
    "ex[ x : int = 10 ]\n",
    "x를 정수로 타입을 지정했지만, 파이썬은 동적으로 타입을 변경할 수 있음.\n",
    "2. 함수에 타입 힌트 추가\n",
    "def add_numbers(a: int, b: int) -> int:\n",
    "    return a + b\n",
    "a와 b는 정수 타입이어야 하며, 함수는 정수 타입의 값을 반환.\n",
    "3.타입 검사 도구와 함께 사용\n",
    "'mypy'와 같은 타입 검사 도구를 사용하면, 코드 작성 시 정적 타입처럼 타입 오류를 검출할 수 있음.\n",
    "\n",
    "타입 힌트의 장점\n",
    "\n",
    "1. 코드 가독성 향상\n",
    "-변수와 함수의 타입을 명시하여 코드를 읽기가 쉬워지고, 다른 사람이 코드를 이해하는데 도움\n",
    "2. 타입 오류 예방\n",
    "-위의 mypy와 같은 도구를 사용하여 타입 오류를 사전에 방지하여, 런타임 오류 감소.\n",
    "3.IDE의 코드 자동 완성\n",
    "IDE가 타입 정보를 바탕으로 정확한 코드 자동 완성 기능을 제공하여 더 빠르고 정확하게 작성 가능.\n",
    "\n",
    "타입 힌트의 단점\n",
    "\n",
    "1. 실제 타입 강제 아님\n",
    "-타입 힌트를 추가해도 파이썬은 여전히 동적 타입 언어로 동작. 런타임에서 타입을 변경해도 오류 발생 x\n",
    "2.타입 힌트로 인해 코드가 길어짐\n",
    "-코드에 타입을 명시하면 코드가 더 길어짐. 간단한 스크립에서는 불필요\n",
    "\n",
    "결론\n",
    "\n",
    "타입 힌트를 사용하면 파이썬도 정적 타입처럼 코드 작성 가능, 그러나 실제로는 동적 타입 방식 유지.\n",
    "이를 통해 정적 타입 언어의 안전성과 가독성이라는 장점을 어느 정도 활용 가능.\n"
   ]
  },
  {
   "cell_type": "markdown",
   "metadata": {},
   "source": [
    "---"
   ]
  },
  {
   "cell_type": "markdown",
   "metadata": {},
   "source": [
    "<span style=\"font-size:80%\">[문제4]<br><br></span>\n",
    "```프로세스와 스레드의 차이점을 설명해주세요```"
   ]
  },
  {
   "cell_type": "markdown",
   "metadata": {},
   "source": [
    "<span style=\"color:red\">답변</span>"
   ]
  },
  {
   "cell_type": "markdown",
   "metadata": {},
   "source": []
  },
  {
   "cell_type": "markdown",
   "metadata": {},
   "source": [
    "---"
   ]
  },
  {
   "cell_type": "markdown",
   "metadata": {},
   "source": [
    "<span style=\"font-size:80%\">[문제5]<br><br></span>\n",
    "```Python 2버전대와 3버전대의 차이를 성명해주세요```"
   ]
  },
  {
   "cell_type": "markdown",
   "metadata": {},
   "source": [
    "<span style=\"color:red\">답변</span>"
   ]
  },
  {
   "cell_type": "markdown",
   "metadata": {},
   "source": []
  },
  {
   "cell_type": "markdown",
   "metadata": {},
   "source": [
    "---"
   ]
  },
  {
   "cell_type": "markdown",
   "metadata": {},
   "source": [
    "<span style=\"font-size:80%\">[문제6]<br><br></span>\n",
    "```Python에서 메모리 관리는 어떻게 이루어지는지 설명해주세요```"
   ]
  },
  {
   "cell_type": "markdown",
   "metadata": {},
   "source": [
    "<span style=\"color:red\">답변</span>"
   ]
  },
  {
   "cell_type": "markdown",
   "metadata": {},
   "source": []
  }
 ],
 "metadata": {
  "language_info": {
   "name": "python"
  }
 },
 "nbformat": 4,
 "nbformat_minor": 2
}
