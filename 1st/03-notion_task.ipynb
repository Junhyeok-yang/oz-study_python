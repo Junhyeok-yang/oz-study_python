{
 "cells": [
  {
   "cell_type": "markdown",
   "metadata": {},
   "source": [
    "<span style=\"font-size:100%\">\n",
    "\n",
    "수업은 모두 열심히 들으셨나요?\n",
    "\n",
    "간혹 강의에서 언급되지 않은 내용이 문제로 나올 수 있습니다.<br>\n",
    "그럴땐 강의 내용 외 문제는 구글링을 통해 해결해주세요<br></span>\n",
    "<span style=\"font-size:80%\">\n",
    "(구글링 또한 개발자가 갖쳐야할 역량 중에 하나랍니다 😊)\n",
    "</span>\n",
    "\n",
    "---"
   ]
  },
  {
   "cell_type": "markdown",
   "metadata": {},
   "source": [
    "<span style=\"font-size:80%\">[문제1]<br><br></span>\n",
    "```주로 작성 중인 코드의 끝을 알리는 기호로 사용되며 파이썬에서 한 줄에 작성된 서로 다른 코드를 구분 지을 때 사용할 수 있는 기호를 골라주세요```\n",
    "\n",
    "1. ' , ' (쉼표)\n",
    "2. ' + ' (더하기 기호)\n",
    "3. ' ; ' (세미콜론)\n",
    "4. ' / ' (슬래시)"
   ]
  },
  {
   "cell_type": "markdown",
   "metadata": {},
   "source": [
    "<span style=\"color:red\">답변</span> :"
   ]
  },
  {
   "cell_type": "markdown",
   "metadata": {},
   "source": [
    "3번 ';'세미콜론"
   ]
  },
  {
   "cell_type": "markdown",
   "metadata": {},
   "source": [
    "----"
   ]
  },
  {
   "cell_type": "markdown",
   "metadata": {},
   "source": [
    "<span style=\"font-size:80%\">[문제2]<br><br></span>\n",
    "```Python의 PEP 8은 무엇인지 설명하고 PEP 8의 핵심적인 규칙을 1개 이상을 설명해주세요```"
   ]
  },
  {
   "cell_type": "markdown",
   "metadata": {},
   "source": [
    "<span style=\"color:red\">답변</span>"
   ]
  },
  {
   "cell_type": "markdown",
   "metadata": {},
   "source": [
    "PEP 8은 파이썬 코드 스타일 가이드이다. PEP는 Python Enhancement Proposal의 약자로, 파이썬 커뮤니티가 제안하는 개선 사항이나 가이드라인을 의미한다. PEP 8은 파이썬 코드의 일관성 있고 읽기 쉬운 스타일을 유지하기 위해 만들어졌으며, 파이썬 코드를 작성할 때 따라야 할 규칙과 권장 사항을 제시한다.\n",
    "\n",
    "핵심 규칙\n",
    "\n",
    "1. 들여쓰기\n",
    "-파이썬에서는 들여쓰기를 사용해 코드 블록을 구분한다. PEP 8에서는 들여쓰기에 4개의 스페이스를 사용할 것을 권장. 탭 대신 스페이스 사용\n",
    "\n",
    "2. 최대 줄 길이\n",
    "-코드 한 줄의 길이는 최대 79자를 넘지 않도록 한다. 이를 통해 코드가 길어져 가독성이 떨어지는 것을 방지.\n",
    "만약 길어진다면 코드 줄을 적절히 줄바꿈으로 나누는 것이 좋다.\n",
    "\n",
    "3. 빈 줄\n",
    "-클래스나 함수 정의 사이에 두 줄의 빈 줄을 넣어 구분한다. 메서드 정의 사이에는 한 줄의 빈 줄을 넣는 것이 좋다.\n",
    "\n",
    "4. 변수 및 함수 이름 규칙\n",
    "-변수와 함수 이름은 소문자와 밑줄을 사용해 작성하는 것이 권장된다.\n",
    "-클래스 이름은 첫 글자가 대문자인 단어로 작성한다.\n",
    "\n",
    "5.주석\n",
    "-코드에 대한 설명을 주석으로 남길 때, 한 줄 주석은 코드와 같은 줄에 #을 사용하여 작성하며, 블록 주석은 여러 줄에 걸쳐 작성.\n",
    "-주석은 항상 가독성을 높이는 방향으로 간결하고 명확하게 작성.\n",
    "\n",
    "PEP 8을 따르는 이유\n",
    "-가독성 향상\n",
    "-협업 효율성 증대\n",
    "-파이썬 철학"
   ]
  },
  {
   "cell_type": "markdown",
   "metadata": {},
   "source": [
    "----"
   ]
  },
  {
   "cell_type": "markdown",
   "metadata": {},
   "source": [
    "<span style=\"font-size:80%\">[문제3]<br><br></span>\n",
    "```Python에서 \"#\"이 의마하는 것은 무엇인지 설명해주세요```"
   ]
  },
  {
   "cell_type": "markdown",
   "metadata": {},
   "source": [
    "<span style=\"color:red\">답변</span>"
   ]
  },
  {
   "cell_type": "markdown",
   "metadata": {},
   "source": [
    "주석을 의미"
   ]
  },
  {
   "cell_type": "markdown",
   "metadata": {},
   "source": [
    "----"
   ]
  },
  {
   "cell_type": "markdown",
   "metadata": {},
   "source": [
    "<span style=\"font-size:80%\">[문제4]<br><br></span>\n",
    "```Python의 들여쓰기 장점과 기능에 대해 설명해주세요```"
   ]
  },
  {
   "cell_type": "markdown",
   "metadata": {},
   "source": [
    "<span style=\"color:red\">답변</span>"
   ]
  },
  {
   "cell_type": "markdown",
   "metadata": {},
   "source": []
  },
  {
   "cell_type": "markdown",
   "metadata": {},
   "source": [
    "----"
   ]
  },
  {
   "cell_type": "markdown",
   "metadata": {},
   "source": [
    "<span style=\"font-size:80%\">[문제5]<br><br></span>\n",
    "```print( )문의 기능 및 특징에 대해 설명해주세요```"
   ]
  },
  {
   "cell_type": "markdown",
   "metadata": {},
   "source": [
    "<span style=\"color:red\">답변</span>"
   ]
  },
  {
   "cell_type": "code",
   "execution_count": null,
   "metadata": {
    "vscode": {
     "languageId": "plaintext"
    }
   },
   "outputs": [],
   "source": []
  },
  {
   "cell_type": "markdown",
   "metadata": {},
   "source": []
  }
 ],
 "metadata": {
  "language_info": {
   "name": "python"
  }
 },
 "nbformat": 4,
 "nbformat_minor": 2
}
