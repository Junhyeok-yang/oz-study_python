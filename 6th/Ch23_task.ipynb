{
 "cells": [
  {
   "cell_type": "markdown",
   "metadata": {},
   "source": [
    "사용자의 이름을 출력하는 함수 print_name을 작성하세요. 만약 이름이 주어지지 않았다면, 기본값으로 \"익명\"을 사용하세요."
   ]
  },
  {
   "cell_type": "markdown",
   "metadata": {},
   "source": []
  },
  {
   "cell_type": "code",
   "execution_count": 6,
   "metadata": {},
   "outputs": [
    {
     "name": "stdout",
     "output_type": "stream",
     "text": [
      "\n"
     ]
    }
   ],
   "source": [
    "def print_name(name=\"익명\"):  \n",
    "    print(name)\n",
    "\n",
    "\n",
    "print_name(input(\"이름을 입력해 주세요. 싫음말구: \"))\n",
    "#이렇게 했더니 입력을 안해도 그냥 빈 문자열이 반환이 되버림."
   ]
  },
  {
   "cell_type": "code",
   "execution_count": 7,
   "metadata": {},
   "outputs": [
    {
     "name": "stdout",
     "output_type": "stream",
     "text": [
      "익명\n"
     ]
    }
   ],
   "source": [
    "#이렇게 해도 되는지는 모르겠지만, 이렇게 하면 되기는 함. 아싸리 호출할 때, 기본값을 처리해버림.\n",
    "\n",
    "def print_name(name=\"익명\"):\n",
    "    print(name)\n",
    "\n",
    "name = input(\"이름을 입력해 주세요. 싫음말구: \")\n",
    "if not name:\n",
    "    print_name()\n",
    "else:\n",
    "    print_name(name)\n"
   ]
  }
 ],
 "metadata": {
  "kernelspec": {
   "display_name": "Python 3",
   "language": "python",
   "name": "python3"
  },
  "language_info": {
   "codemirror_mode": {
    "name": "ipython",
    "version": 3
   },
   "file_extension": ".py",
   "mimetype": "text/x-python",
   "name": "python",
   "nbconvert_exporter": "python",
   "pygments_lexer": "ipython3",
   "version": "3.9.6"
  }
 },
 "nbformat": 4,
 "nbformat_minor": 2
}
